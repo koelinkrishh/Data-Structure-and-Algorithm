{
 "cells": [
  {
   "cell_type": "markdown",
   "metadata": {},
   "source": [
    "##### Q.1) Power: Find the power of base by n"
   ]
  },
  {
   "cell_type": "code",
   "execution_count": null,
   "metadata": {},
   "outputs": [],
   "source": [
    "## Manually\n",
    "def Power(x:int,n:int)->int: # O(n)\n",
    "   ans=1\n",
    "   for i in range(n):\n",
    "      ans *= x\n",
    "   \n",
    "   return ans"
   ]
  },
  {
   "cell_type": "code",
   "execution_count": null,
   "metadata": {},
   "outputs": [],
   "source": [
    "## Bit form multiplication\n",
    "def mypow(x:float,n:int)->float:\n",
    "   binform=n\n",
    "   ans=1\n",
    "   \n",
    "   while binform>0:\n",
    "      if binform%2==1: # odd number\n",
    "         ans *= x\n",
    "      x *= x\n",
    "      binform = binform//2\n",
    "   \n",
    "   return ans"
   ]
  },
  {
   "cell_type": "code",
   "execution_count": null,
   "metadata": {},
   "outputs": [],
   "source": [
    "## Time optimal approach: break n into sum of multiple of 2, update base to optimize calculation\n",
    "def Pow(x,n)->int: # O(logn)\n",
    "   binary = format(n,'b')\n",
    "   # reverse binary to loop\n",
    "   binary = binary[::-1]\n",
    "   \n",
    "   print(\"Binary: \",binary)\n",
    "   base,ans = x,1\n",
    "   for bit in binary:\n",
    "      if bit=='1':\n",
    "         ans *= base\n",
    "      base = base*base\n",
    "      \n",
    "      if bit=='-':\n",
    "         ans = 1/ans\n",
    "   \n",
    "   return ans"
   ]
  },
  {
   "cell_type": "code",
   "execution_count": null,
   "metadata": {},
   "outputs": [],
   "source": [
    "## Recusion:\n",
    "def myPow(x: float, n: int) -> float:\n",
    "   if x==1 or n == 0:\n",
    "      return 1\n",
    "   if n < 0:\n",
    "      return myPow(1/x, -n)\n",
    "   \n",
    "   lower = myPow(x, n//2)\n",
    "   if n % 2 == 0:\n",
    "      return lower * lower\n",
    "   else:\n",
    "      return lower * lower * x"
   ]
  },
  {
   "cell_type": "code",
   "execution_count": null,
   "metadata": {},
   "outputs": [],
   "source": [
    "print(Power(3,5))\n",
    "print(Pow(12,3))\n",
    "print(myPow(13,2))\n",
    "print(mypow(5,4))"
   ]
  },
  {
   "cell_type": "markdown",
   "metadata": {},
   "source": [
    "##### Q.2) Add two binary numbers:"
   ]
  },
  {
   "cell_type": "code",
   "execution_count": null,
   "metadata": {},
   "outputs": [],
   "source": [
    "def addBinary(a:str,b:str) -> str:\n",
    "   sum = bin(int(a,2) + int(b,2))\n",
    "   return sum[2:]\n",
    "\n",
    "print(addBinary(a = '11',b = '1'))"
   ]
  },
  {
   "cell_type": "markdown",
   "metadata": {},
   "source": [
    "##### Q.3) Reverse Bits:"
   ]
  },
  {
   "cell_type": "code",
   "execution_count": null,
   "metadata": {},
   "outputs": [],
   "source": [
    "def reverseBits(n:int)->int:\n",
    "   bits = bin(n)[2:]\n",
    "   ## pads number with 0s\n",
    "   bits = bits.zfill(32)\n",
    "   rev = bits[::-1]\n",
    "   ans = int(rev,2)\n",
    "   return ans\n",
    "\n",
    "print(reverseBits(43261596))"
   ]
  },
  {
   "cell_type": "markdown",
   "metadata": {},
   "source": [
    "#### Q.4) Number of 1 Bits:\n",
    "Given a positive integer n, write a function that returns the number of set bits in its binary representation (also known as the Hamming weight)."
   ]
  },
  {
   "cell_type": "code",
   "execution_count": null,
   "metadata": {},
   "outputs": [],
   "source": [
    "def hammingWeight(n:int) -> int:\n",
    "   return bin(n).count('1')\n",
    "## OR\n",
    "def hammingWeights(n:int) ->int:\n",
    "   count = 0\n",
    "   while n:\n",
    "      if n&1:\n",
    "         count +=1\n",
    "      n >>=1 ## or n //= 2\n",
    "   return count\n",
    "\n",
    "print(hammingWeight(2147483645))"
   ]
  },
  {
   "cell_type": "markdown",
   "metadata": {},
   "source": [
    "#### Q.5) Reverse Number:\n",
    "Given a signed 32-bit integer x, return x with its digits reversed. <br> If reversing x causes the value to go outside the signed 32-bit integer range [-2^31, 2^31 - 1], then return 0."
   ]
  },
  {
   "cell_type": "code",
   "execution_count": null,
   "metadata": {},
   "outputs": [],
   "source": [
    "def reversenumber(x:int)->int:\n",
    "   rev = 0\n",
    "   sign = -1 if x<0 else 1\n",
    "   n = abs(x)\n",
    "   \n",
    "   while n != 0:\n",
    "      rev = rev*10 + n%10\n",
    "      if rev > 2**31 - 1:\n",
    "         return 0\n",
    "      n = n//10\n",
    "   \n",
    "   return sign*rev\n",
    "\n",
    "print(reversenumber(135297))"
   ]
  },
  {
   "cell_type": "markdown",
   "metadata": {},
   "source": [
    "##### Q.6) Complement of Base 10 integer:<br> Given an integer n, return its complement."
   ]
  },
  {
   "cell_type": "code",
   "execution_count": null,
   "metadata": {},
   "outputs": [],
   "source": [
    "def bitwiseComplement(n:int) -> int:\n",
    "   ans = \"\"\n",
    "   binary = bin(n)[2:]\n",
    "   \n",
    "   for c in binary:\n",
    "      if c=='1': ans+='0'\n",
    "      elif c=='0': ans+='1'\n",
    "   \n",
    "   return int(ans,2)\n",
    "\n",
    "print(bitwiseComplement(1021213))"
   ]
  },
  {
   "cell_type": "code",
   "execution_count": null,
   "metadata": {},
   "outputs": [],
   "source": [
    "def BitwiseComplement(n:int) -> int:\n",
    "   if n==0: return 1\n",
    "   mask = 1\n",
    "   while mask < n:\n",
    "      mask = (mask << 1) + 1\n",
    "   \n",
    "   return n^mask\n",
    "\n",
    "print(BitwiseComplement(7))"
   ]
  },
  {
   "cell_type": "code",
   "execution_count": null,
   "metadata": {},
   "outputs": [],
   "source": [
    "def Bitwise_complement(n:int) -> int:\n",
    "   # Egde case\n",
    "   if n==0: return 1\n",
    "   \n",
    "   m = n\n",
    "   mask = 0\n",
    "   while m:\n",
    "      # just add 'p' 1 bits for p bits number n\n",
    "      mask = (mask << 1) | 1\n",
    "      m = m>>1\n",
    "   return (-n)^mask\n",
    "\n",
    "print(BitwiseComplement(5))"
   ]
  },
  {
   "cell_type": "markdown",
   "metadata": {},
   "source": [
    "##### Q.7) Base radix: <br> Given an integer, return a string of its base r repesentation"
   ]
  },
  {
   "cell_type": "code",
   "execution_count": null,
   "metadata": {},
   "outputs": [],
   "source": [
    "def convertbase(num:int,radix:int)->str:\n",
    "   ans = \"\"\n",
    "   if num==0:  return ans\n",
    "   \n",
    "   n = abs(num)\n",
    "   while n:\n",
    "      n,rem = divmod(n,radix)\n",
    "      ans = str(rem) + ans\n",
    "   \n",
    "   if num<0: ans = \"-\" + ans\n",
    "   return ans\n",
    "\n",
    "Number,radix = 92,5\n",
    "print(convertbase(Number,radix))"
   ]
  },
  {
   "cell_type": "markdown",
   "metadata": {},
   "source": [
    "#### Q.8) Power of Two: \n",
    "Given an integer n, return true if it is a power of two. Otherwise, return false."
   ]
  },
  {
   "cell_type": "code",
   "execution_count": null,
   "metadata": {},
   "outputs": [],
   "source": [
    "def isPowerofTwo(num:int)->bool:\n",
    "   ans = 1\n",
    "   while ans<=num:\n",
    "      if ans==num:\n",
    "         return True\n",
    "      ans *= 2\n",
    "   return False\n",
    "\n",
    "print(isPowerofTwo(16))"
   ]
  },
  {
   "cell_type": "code",
   "execution_count": null,
   "metadata": {},
   "outputs": [],
   "source": [
    "def isPowerOfTwo(n:int)->bool:\n",
    "   \"\"\"  Logic to given function n&(n-1) will remove the rightmost\n",
    "   bit ~n&(n-1) will only keep the rightmost bit power of two\n",
    "   number only have one bit set and with ~n&(n-1) will result\n",
    "   in 0 for more then one set bit\n",
    "   \"\"\"\n",
    "   return n and not( n & (n-1) )\n",
    "\n",
    "\n",
    "print(isPowerOfTwo(13))"
   ]
  }
 ],
 "metadata": {
  "kernelspec": {
   "display_name": "Python 3",
   "language": "python",
   "name": "python3"
  },
  "language_info": {
   "codemirror_mode": {
    "name": "ipython",
    "version": 3
   },
   "file_extension": ".py",
   "mimetype": "text/x-python",
   "name": "python",
   "nbconvert_exporter": "python",
   "pygments_lexer": "ipython3",
   "version": "3.13.2"
  }
 },
 "nbformat": 4,
 "nbformat_minor": 2
}
