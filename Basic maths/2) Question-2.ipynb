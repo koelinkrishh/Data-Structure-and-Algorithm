{
 "cells": [
  {
   "cell_type": "markdown",
   "metadata": {},
   "source": [
    "#### Q.9) Convert integer to Roman numeral:\n",
    "constraints:- 1 < n < 4000"
   ]
  },
  {
   "cell_type": "code",
   "execution_count": null,
   "metadata": {},
   "outputs": [],
   "source": [
    "def intToRoman(num: int) -> str:\n",
    "   number = \"\"\n",
    "   \n",
    "   while num>0:\n",
    "      if num>=1000:\n",
    "         num -= 1000\n",
    "         number += \"M\"\n",
    "      elif num>=900:\n",
    "         num -= 900\n",
    "         number += \"CM\"\n",
    "      elif num>=500:\n",
    "         num -= 500\n",
    "         number += \"D\"\n",
    "      elif num>= 400:\n",
    "         num -= 400\n",
    "         number += \"CD\"\n",
    "      elif num >= 100:\n",
    "         num -= 100\n",
    "         number += \"C\"\n",
    "      elif num >= 90:\n",
    "         num -= 90\n",
    "         number += \"XC\"\n",
    "      elif num >= 50:\n",
    "         num -= 50\n",
    "         number += \"L\"\n",
    "      elif num >= 40:\n",
    "         num -= 40\n",
    "         number += \"XL\"\n",
    "      elif num >= 10:\n",
    "         num -= 10\n",
    "         number += \"X\"\n",
    "      elif num >= 9:\n",
    "         num -= 9\n",
    "         number += \"IX\"\n",
    "      elif num >= 5:\n",
    "         num -= 5\n",
    "         number += \"V\"\n",
    "      elif num >= 4:\n",
    "         num -= 4\n",
    "         number += \"IV\"\n",
    "      elif num >=1:\n",
    "         num -= 1\n",
    "         number += \"I\"\n",
    "   \n",
    "   return number"
   ]
  },
  {
   "cell_type": "code",
   "execution_count": null,
   "metadata": {},
   "outputs": [],
   "source": [
    "## OR USing hashmap:\n",
    "def Int_to_Roman(n:int) -> str:\n",
    "   Map = [\n",
    "      (1000, \"M\"), (900, \"CM\"),  (500, \"D\"), (400, \"CD\"), (100, \"C\"), (90, \"XC\"),\n",
    "      (50, \"L\"), (40, \"XL\"),  (10, \"X\"), (9, \"IX\"), (5, \"V\"), (4, \"IV\"), (1, \"I\")\n",
    "   ]\n",
    "   result = []\n",
    "   \n",
    "   # Iterate over each value symbols pair in the map\n",
    "   for value,symbol in Map:\n",
    "      while n >= value:\n",
    "         result.append(symbol)\n",
    "         n -= value\n",
    "   \n",
    "   return ''.join(result)"
   ]
  },
  {
   "cell_type": "code",
   "execution_count": null,
   "metadata": {},
   "outputs": [],
   "source": [
    "n1,n2,n3 = 1994,58,3749\n",
    "\n",
    "print(intToRoman(n1))\n",
    "print(Int_to_Roman(n2))\n",
    "print(Int_to_Roman(n3))"
   ]
  },
  {
   "cell_type": "markdown",
   "metadata": {},
   "source": [
    "#### 10) Subtract the product and sum of Digits of an integer:"
   ]
  },
  {
   "cell_type": "code",
   "execution_count": null,
   "metadata": {},
   "outputs": [],
   "source": [
    "def subtractProductAndSum(n:int) ->int:\n",
    "   summ,prod = 0,1\n",
    "   \n",
    "   while n>0:\n",
    "      dig = n%10\n",
    "      n //=10\n",
    "      summ += dig\n",
    "      prod *= dig\n",
    "   \n",
    "   return prod-summ\n",
    "\n",
    "print(subtractProductAndSum(4421))\n",
    "print(subtractProductAndSum(113))"
   ]
  },
  {
   "cell_type": "markdown",
   "metadata": {},
   "source": [
    "#### 11) Count primes:\n",
    "Given an integer n, return the number of prime numbers that are strictly less than n."
   ]
  },
  {
   "cell_type": "code",
   "execution_count": 7,
   "metadata": {},
   "outputs": [
    {
     "name": "stdout",
     "output_type": "stream",
     "text": [
      "15\n"
     ]
    }
   ],
   "source": [
    "from math import sqrt\n",
    "\n",
    "def isprime(num):\n",
    "   if num<2:\n",
    "      return True\n",
    "   \n",
    "   for i in range(2,int(sqrt(num)+1)):\n",
    "      if num%i==0:\n",
    "         return False\n",
    "   return True\n",
    "\n",
    "def Countprimes(n:int)->int:\n",
    "   count = 0\n",
    "   for j in range(2,n):\n",
    "      if isprime(j): count = 1+count\n",
    "   \n",
    "   return count\n",
    "\n",
    "print(Countprimes(50))"
   ]
  },
  {
   "cell_type": "code",
   "execution_count": 20,
   "metadata": {},
   "outputs": [
    {
     "name": "stdout",
     "output_type": "stream",
     "text": [
      "15\n"
     ]
    }
   ],
   "source": [
    "## Alternate-> Sieve of erosthenes\n",
    "def Counting_prime(n:int)->int:\n",
    "   Sieve = [1]*n\n",
    "   ## remove 1 and 0\n",
    "   Sieve[0] = Sieve[1] = 0\n",
    "   \n",
    "   if n<2:\n",
    "      return 0\n",
    "   \n",
    "   for i in range(2,int(sqrt(n))+1):    \n",
    "      # i for prime base\n",
    "      for j in range(i*2,n,i):\n",
    "         # n for composite number\n",
    "         Sieve[j] = 0\n",
    "   \n",
    "   # print(Sieve)\n",
    "   return sum(Sieve)\n",
    "\n",
    "print(Counting_prime(50))"
   ]
  },
  {
   "cell_type": "code",
   "execution_count": null,
   "metadata": {},
   "outputs": [],
   "source": []
  }
 ],
 "metadata": {
  "kernelspec": {
   "display_name": "Python 3",
   "language": "python",
   "name": "python3"
  },
  "language_info": {
   "codemirror_mode": {
    "name": "ipython",
    "version": 3
   },
   "file_extension": ".py",
   "mimetype": "text/x-python",
   "name": "python",
   "nbconvert_exporter": "python",
   "pygments_lexer": "ipython3",
   "version": "3.13.2"
  }
 },
 "nbformat": 4,
 "nbformat_minor": 2
}
