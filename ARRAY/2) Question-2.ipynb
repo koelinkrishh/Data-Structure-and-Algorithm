{
 "cells": [
  {
   "cell_type": "markdown",
   "metadata": {},
   "source": [
    "#### Q.6) {66} Plus one:\n",
    "You are given a large integer array digits, where each digits[i] is the ith digit of the integer.<br> The digits are ordered from most significant to least significant in left-to-order order.\n",
    "\n",
    "Increment the large integer by one and return the resulting array of digits.\n",
    "\n",
    "<pre>\n",
    "Ex-1: Input: digits = [1,2,3]    Output: [1,2,4]\n",
    "Ex-2: Input: digits = [9,9]    Output: [1,0,0]\n",
    "</pre>"
   ]
  },
  {
   "cell_type": "code",
   "execution_count": null,
   "metadata": {},
   "outputs": [],
   "source": [
    "def Plusone(digits: List[int]) -> List[int]:\n",
    "   lastind = len(digits) - 1\n",
    "   \n",
    "   while digits[lastind] == 9:\n",
    "      digits[lastind] = 0\n",
    "      lastind -= 1\n",
    "   else:\n",
    "      if lastind<0:\tdigits.insert(0,1)\n",
    "      else:\t\tdigits[lastind] += 1\n",
    "      return digits"
   ]
  },
  {
   "cell_type": "code",
   "execution_count": null,
   "metadata": {},
   "outputs": [],
   "source": [
    "def PlusOnes(digits: List[int])->List[int]:\n",
    "   for i in range(len(digits)-1, -1, -1):\n",
    "      if digits[i] == 9:\n",
    "         digits[i] = 0\n",
    "         if i == 0:\n",
    "            digits.insert(0, 1)\n",
    "            return digits\n",
    "      else:\n",
    "         digits[i] += 1\n",
    "         return digits"
   ]
  },
  {
   "cell_type": "code",
   "execution_count": null,
   "metadata": {},
   "outputs": [
    {
     "name": "stdout",
     "output_type": "stream",
     "text": [
      "[1, 2, 4] [1, 0]\n"
     ]
    }
   ],
   "source": [
    "dig1,dig2 = [1,2,3],[9]\n",
    "print(Plusone(dig1),PlusOnes(dig2))"
   ]
  },
  {
   "cell_type": "markdown",
   "metadata": {},
   "source": [
    "#### Q.7) {852} Peak index in a Mountain array:\n",
    "You are given an integer mountain array arr of length n where the values increase to a peak element and then decrease.\n",
    "\n",
    "Return the index of the peak element."
   ]
  },
  {
   "cell_type": "code",
   "execution_count": 19,
   "metadata": {},
   "outputs": [
    {
     "name": "stdout",
     "output_type": "stream",
     "text": [
      "6\n"
     ]
    }
   ],
   "source": [
    "from typing import List\n",
    "\n",
    "def peakIndexInMountainArray(arr: List[int]) -> int:\n",
    "   i,j = 0,len(arr) - 1\n",
    "\n",
    "   while i<j:\n",
    "      mid = i + (j-i)//2\n",
    "      prev,curr,next = arr[mid-1],arr[mid],arr[mid+1]\n",
    "      if prev<curr and  next<curr:\n",
    "         return mid\n",
    "      \n",
    "      if prev>curr:\n",
    "         j = mid\n",
    "      elif curr<next:\n",
    "         i = mid\n",
    "\n",
    "arr = [0,2,3,6,8,11,16,13,10,7,5,1]\n",
    "print(peakIndexInMountainArray(arr))"
   ]
  },
  {
   "cell_type": "markdown",
   "metadata": {},
   "source": [
    "#### Q.8) Swap alternate elements:\n",
    "swap every alternate elements in an array:"
   ]
  },
  {
   "cell_type": "code",
   "execution_count": 20,
   "metadata": {},
   "outputs": [
    {
     "data": {
      "text/plain": [
       "[5, 3, 6, 8, 2, 7, 9, 1, 4]"
      ]
     },
     "execution_count": 20,
     "metadata": {},
     "output_type": "execute_result"
    }
   ],
   "source": [
    "def swapalternate(arr:list)->list:\n",
    "   n = len(arr)\n",
    "   \n",
    "   for i in range(1,len(arr)-1,2):\n",
    "      arr[i], arr[i-1] = arr[i-1], arr[i]\n",
    "   \n",
    "   return arr\n",
    "\n",
    "swapalternate([3,5,8,6,7,2,1,9,4])"
   ]
  },
  {
   "cell_type": "markdown",
   "metadata": {},
   "source": [
    "#### 9) {349} Intersection of Two array:\n",
    "Given two integer arrays nums1 and nums2, return an array of their intersection.<br>\n",
    "Each element in the result can be unique and you may return the result in any order."
   ]
  },
  {
   "cell_type": "code",
   "execution_count": 28,
   "metadata": {},
   "outputs": [],
   "source": [
    "from collections import defaultdict\n",
    "from typing import List\n",
    "\n",
    "def Intersection(nums1:List[int], nums2:List[int]) -> List[int]:\n",
    "   ans = []\n",
    "   Chart = defaultdict(int)\n",
    "   \n",
    "   for i in nums1:\n",
    "      Chart[i] += 1\n",
    "   \n",
    "   for j in nums2:\n",
    "      if Chart[j]>0:\n",
    "         ans.append(j)\n",
    "         Chart[j] -= 1\n",
    "   \n",
    "   return ans"
   ]
  },
  {
   "cell_type": "code",
   "execution_count": 29,
   "metadata": {},
   "outputs": [],
   "source": [
    "## Using Sorting and two pointer approach\n",
    "def intersection(nums1:List[int], nums2:List[int]) -> List[int]:\n",
    "   ans = []\n",
    "   l1,l2 = len(nums1), len(nums2)\n",
    "   \n",
    "   # Sort both lists\n",
    "   nums1.sort(); nums2.sort()\n",
    "   \n",
    "   # Index pointer for lists\n",
    "   i,j = 0,0\n",
    "   \n",
    "   while i<l1 and j<l2:\n",
    "      if nums1[i] == nums2[j]:\n",
    "         ans.append(nums1[i])\n",
    "         i += 1 ; j += 1\n",
    "      elif nums1[i] < nums2[j]:\n",
    "         i += 1\n",
    "      elif nums1[i] > nums2[j]:\n",
    "         j += 1\n",
    "   \n",
    "   return ans"
   ]
  },
  {
   "cell_type": "code",
   "execution_count": 31,
   "metadata": {},
   "outputs": [
    {
     "name": "stdout",
     "output_type": "stream",
     "text": [
      "[4, 9]\n",
      "[4, 9]\n"
     ]
    }
   ],
   "source": [
    "nums1 = [9,4,9,4,8]\n",
    "nums2 = [4,9,5]\n",
    "\n",
    "print(Intersection(nums1, nums2))\n",
    "print(intersection(nums1, nums2))"
   ]
  },
  {
   "cell_type": "markdown",
   "metadata": {},
   "source": [
    "#### 10) {34} Find First and Last Position of Element in Sorted Array\n",
    "Given a sorted array of integers, find the first and last position of a given element"
   ]
  },
  {
   "cell_type": "code",
   "execution_count": null,
   "metadata": {},
   "outputs": [],
   "source": [
    "def searchRange(self, nums: List[int], target: int) -> List[int]:\n",
    "   n = len(nums)\n",
    "   i,j = 0,n-1\n",
    "   \n",
    "   while i<=j:\n",
    "      mid = i + (j-i)//2\n",
    "   \n",
    "      if target<nums[mid]:\n",
    "         j = mid-1\n",
    "      elif target>nums[mid]:\n",
    "         i = mid+1\n",
    "      else: ## middle element is target\n",
    "         a,b = mid,mid\n",
    "         while a>0 and nums[a] == nums[a-1]:\n",
    "            a = a-1\n",
    "         while b<n-1 and nums[b] == nums[b+1]:\n",
    "            b = b-1\n",
    "         return [a,b]\n",
    "   \n",
    "   return [-1,-1]"
   ]
  }
 ],
 "metadata": {
  "kernelspec": {
   "display_name": "Python 3",
   "language": "python",
   "name": "python3"
  },
  "language_info": {
   "codemirror_mode": {
    "name": "ipython",
    "version": 3
   },
   "file_extension": ".py",
   "mimetype": "text/x-python",
   "name": "python",
   "nbconvert_exporter": "python",
   "pygments_lexer": "ipython3",
   "version": "3.13.0"
  }
 },
 "nbformat": 4,
 "nbformat_minor": 2
}
