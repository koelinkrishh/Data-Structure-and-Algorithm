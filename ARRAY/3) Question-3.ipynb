{
 "cells": [
  {
   "cell_type": "markdown",
   "metadata": {},
   "source": [
    "#### 11) {1} Two/Pair Sum:\n",
    "Given an array of integers nums and an integer target, return indices of the two numbers such that they add up to target.\n",
    "\n",
    "You may assume that each input would have exactly one solution, and you may not use the same element twice.\n",
    "\n",
    "You can return the answer in any order."
   ]
  },
  {
   "cell_type": "code",
   "execution_count": 5,
   "metadata": {},
   "outputs": [
    {
     "name": "stdout",
     "output_type": "stream",
     "text": [
      "[0, 1]\n"
     ]
    }
   ],
   "source": [
    "from typing import List\n",
    "\n",
    "def twoSum(nums: List[int], target: int) -> List[int]:\n",
    "   hash_map={}\n",
    "   \n",
    "   for index in range(len(nums)):\n",
    "      value_diff=target-nums[index]\n",
    "      second_index=hash_map.get(value_diff)\n",
    "      if second_index!=None and second_index!=index:\n",
    "         return [second_index,index]\n",
    "      else:\n",
    "         hash_map[nums[index]]=index\n",
    "   return [-1,-1]\n",
    "\n",
    "nums = [2,7,11,15]; target = 9\n",
    "print(twoSum(nums,target))"
   ]
  },
  {
   "cell_type": "markdown",
   "metadata": {},
   "source": [
    "#### 12) {3151} Special array 1:\n",
    "An array is considered special if every pair of its adjacent elements contains two numbers with different parity. In other words, one element in each pair must be even, and the other must be odd.\n",
    "\n",
    "You are given an array of integers nums. Return true if nums is a special array, otherwise, return false."
   ]
  },
  {
   "cell_type": "code",
   "execution_count": null,
   "metadata": {},
   "outputs": [],
   "source": [
    "from typing import List\n",
    "\n",
    "def isArraySpecial(nums: List[int]) -> bool:\n",
    "   parity = lambda p: p%2==0 # True for even \n",
    "   def pair_parity(n1,n2):\n",
    "      return (parity(n1) != parity(n2))\n",
    "   \n",
    "   return all(pair_parity(nums[i],nums[i+1]) for i in range(len(nums)-1))"
   ]
  },
  {
   "cell_type": "code",
   "execution_count": 17,
   "metadata": {},
   "outputs": [
    {
     "name": "stdout",
     "output_type": "stream",
     "text": [
      "Case-1: [1,2,3,4] =>  True\n",
      "Case-2: [2,1,4] =>  True\n",
      "Case-3: [4] =>  True\n",
      "Case-4: [1,6,2] =>  False\n"
     ]
    }
   ],
   "source": [
    "print(\"Case-1: [1,2,3,4] => \",isArraySpecial([1,2,3,4]))\n",
    "print(\"Case-2: [2,1,4] => \",isArraySpecial([2,1,4]))\n",
    "print(\"Case-3: [4] => \",isArraySpecial([4]))\n",
    "print(\"Case-4: [1,6,2] => \",isArraySpecial([1,6,2]))"
   ]
  },
  {
   "cell_type": "code",
   "execution_count": null,
   "metadata": {},
   "outputs": [],
   "source": []
  }
 ],
 "metadata": {
  "kernelspec": {
   "display_name": "Python 3",
   "language": "python",
   "name": "python3"
  },
  "language_info": {
   "codemirror_mode": {
    "name": "ipython",
    "version": 3
   },
   "file_extension": ".py",
   "mimetype": "text/x-python",
   "name": "python",
   "nbconvert_exporter": "python",
   "pygments_lexer": "ipython3",
   "version": "3.13.0"
  }
 },
 "nbformat": 4,
 "nbformat_minor": 2
}
