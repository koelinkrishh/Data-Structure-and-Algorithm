{
 "cells": [
  {
   "cell_type": "markdown",
   "metadata": {},
   "source": [
    "#### 1) Reverse an array:"
   ]
  },
  {
   "cell_type": "code",
   "execution_count": 17,
   "metadata": {},
   "outputs": [],
   "source": [
    "# 1) using inbuilt iteration\n",
    "def reverse1(array): # O[n] O(n)\n",
    "   print(array[::-1])\n",
    "\n",
    "# 2) Direct looping\n",
    "def reverse2(array): # O[n] O(n)\n",
    "   sz = len(array)\n",
    "   rev = [-1]*sz\n",
    "   # rev = np.zeros(sz,dtype='int') # initialize array\n",
    "   \n",
    "   for i in range(sz):\n",
    "      rev[i] = array[sz-1-i]\n",
    "   print(rev)"
   ]
  },
  {
   "cell_type": "code",
   "execution_count": 18,
   "metadata": {},
   "outputs": [],
   "source": [
    "# 3) Using two pointer approach\n",
    "def reverse3(array): # O(n) O[1]\n",
    "   start,end = 0,len(array)-1\n",
    "   \n",
    "   while start<end:\n",
    "      array[start],array[end] = array[end],array[start]\n",
    "      start += 1\n",
    "      end -= 1\n",
    "   print(array)\n",
    "\n",
    "# 4) Using loop\n",
    "def reverse4(array): # O(n/2) O[1]\n",
    "   sz = len(array)\n",
    "   \n",
    "   for i in range(0, int( len(array)/2 ) ):\n",
    "      array[i],array[sz-1-i] = array[sz-1-i],array[i]\n",
    "   print(array)"
   ]
  },
  {
   "cell_type": "code",
   "execution_count": 19,
   "metadata": {},
   "outputs": [],
   "source": [
    "# 5) In-Built method\n",
    "def reverse5(array): # O(n) O[1]\n",
    "   array.reverse()\n",
    "   print(array)\n",
    "\n",
    "# 6) recursion\n",
    "def recursion(A,start,end): # O(n) O[n]\n",
    "   if start>end:\n",
    "      return\n",
    "   A[start],A[end] = A[end],A[start]\n",
    "   recursion(A, start+1, end-1)\n",
    "\n",
    "def reverse6(array):\n",
    "   recursion(array,0,len(array)-1)\n",
    "   print(array)"
   ]
  },
  {
   "cell_type": "code",
   "execution_count": 20,
   "metadata": {},
   "outputs": [],
   "source": [
    "# 7) Using Stack\n",
    "def reverse7(array):\n",
    "   stack = []\n",
    "   \n",
    "   for elem in array:\n",
    "      stack.append(elem)\n",
    "   for i in range(len(array)):\n",
    "      array[i] = stack.pop()\n",
    "   \n",
    "   print(array)"
   ]
  },
  {
   "cell_type": "code",
   "execution_count": 21,
   "metadata": {},
   "outputs": [
    {
     "name": "stdout",
     "output_type": "stream",
     "text": [
      "[1, 3, 5, 7, 9]\n",
      "Reverse array: \n",
      "[9, 7, 5, 3, 1]\n"
     ]
    }
   ],
   "source": [
    "# Driver code:\n",
    "arr = [1,3,5,7,9]\n",
    "print(arr)\n",
    "\n",
    "print(\"Reverse array: \")\n",
    "reverse7(arr)"
   ]
  },
  {
   "cell_type": "markdown",
   "metadata": {},
   "source": [
    "#### 2) {189} Rotate elements of an array by d elements:"
   ]
  },
  {
   "cell_type": "code",
   "execution_count": 22,
   "metadata": {},
   "outputs": [],
   "source": [
    "## 1) Using loop\n",
    "def rotate1(array,d): # O(n) O[n]\n",
    "   n = len(array)\n",
    "   d = d % n\n",
    "   \n",
    "   A = [0]*n\n",
    "   k = 0 # Keep track of current index\n",
    "   \n",
    "   for ind in range(d,n):\n",
    "      A[k] = array[ind]\n",
    "      k = k+1\n",
    "   for ind in range(0,d):\n",
    "      A[k] = array[ind]\n",
    "      k = k+1\n",
    "   print(A)"
   ]
  },
  {
   "cell_type": "code",
   "execution_count": 23,
   "metadata": {},
   "outputs": [],
   "source": [
    "## 2) One by One \n",
    "def rotate2(arr,d):\n",
    "   n = len(arr)\n",
    "   array = arr.copy()\n",
    "   \n",
    "   for count in range(d):\n",
    "      first = array[0]\n",
    "      # left shift by 1 index d times\n",
    "      for i in range(n-1):\n",
    "         array[i] = array[i+1]\n",
    "      array[n-1] = first\n",
    "   \n",
    "   print(array)"
   ]
  },
  {
   "cell_type": "code",
   "execution_count": 24,
   "metadata": {},
   "outputs": [],
   "source": [
    "## 3) Using Juggling logorithm\n",
    "def gcd(a,b):\n",
    "   return a if b==0 else gcd(b,a%b)\n",
    "\n",
    "def rotate3(Array,d):\n",
    "   Arr = Array.copy()\n",
    "   n = len(Arr)\n",
    "   d = d%n\n",
    "   GCD = gcd(d,n)\n",
    "   \n",
    "   # for elements of diffferent sets -> length GCD\n",
    "   for i in range(GCD):\n",
    "      # juggle n/GCD elements\n",
    "      temp = Arr[i]\n",
    "      j = i\n",
    "      \n",
    "      while True:\n",
    "      # next marks the index of next ball in juggling\n",
    "         next = (j+d) % n\n",
    "         if next==i: # entire set has been juggled\n",
    "            break # move onto next set\n",
    "         Arr[j] = Arr[next]\n",
    "         j = next\n",
    "      \n",
    "      Arr[j] = temp\n",
    "   print(Arr)"
   ]
  },
  {
   "cell_type": "code",
   "execution_count": 25,
   "metadata": {},
   "outputs": [],
   "source": [
    "## 4) Reversal Algorithm\n",
    "def reverse(A,S,E):\n",
    "   \"\"\"  Function to reverse array elements from start to end  \"\"\"\n",
    "   while S<E:\n",
    "      A[S],A[E] = A[E],A[S]\n",
    "      S += 1\n",
    "      E -= 1\n",
    "\n",
    "def rotate4(arry,d):\n",
    "   array = arry.copy()\n",
    "   n = len(array)\n",
    "   d = d%n\n",
    "   \n",
    "   # i> reversse first d element ii> remaining element iii> all elements\n",
    "   reverse(array,0,n-1)\n",
    "   reverse(array,0,d-1)\n",
    "   reverse(array,d,n-1)\n",
    "   \n",
    "   print(array)"
   ]
  },
  {
   "cell_type": "code",
   "execution_count": 26,
   "metadata": {},
   "outputs": [
    {
     "name": "stdout",
     "output_type": "stream",
     "text": [
      "Array:  [1, 2, 3, 4, 5, 6, 7]\n",
      "[3, 4, 5, 6, 7, 1, 2]\n",
      "[4, 5, 6, 7, 1, 2, 3]\n",
      "[5, 6, 7, 1, 2, 3, 4]\n",
      "[3, 4, 5, 6, 7, 1, 2]\n",
      "[3, 99, -1, -100]\n"
     ]
    }
   ],
   "source": [
    "## Driver code\n",
    "arr = [1,2,3,4,5,6,7]\n",
    "d = 2\n",
    "\n",
    "print(\"Array: \",arr)\n",
    "rotate1(arr,d)\n",
    "rotate2(arr,d+1)\n",
    "rotate3(arr,d+2)\n",
    "rotate4(arr,d+3)\n",
    "rotate4([-1,-100,3,99],2)"
   ]
  },
  {
   "cell_type": "markdown",
   "metadata": {},
   "source": [
    "#### 3) {27} Remove Element:\n",
    "Given an integer array nums and an integer val, remove all occurrences of val in nums in-place. The order of the elements may be changed. Then return the number of elements in nums which are not equal to val.\n",
    "\n",
    "<pre>   Example - 1:\n",
    "Input: nums = [3,2,2,3], val = 3\n",
    "Output: 2, nums = [2,2,_,_]\n",
    "   Example - 2:\n",
    "Input: nums = [0,1,2,2,3,0,4,2], val = 2\n",
    "Output: 5, nums = [0,1,4,0,3,_,_,_]\n",
    "</pre>"
   ]
  },
  {
   "cell_type": "code",
   "execution_count": 27,
   "metadata": {},
   "outputs": [
    {
     "name": "stdout",
     "output_type": "stream",
     "text": [
      "(5, [0, 1, 3, 0, 4])\n"
     ]
    }
   ],
   "source": [
    "from typing import List\n",
    "\n",
    "def removeElement(nums: List[int], val: int) -> int:\n",
    "   ind = 0\n",
    "   for elem in nums:\n",
    "      if elem != val:\n",
    "         nums[ind] = elem\n",
    "         ind+=1\n",
    "   \n",
    "   return ind,nums[:ind]\n",
    "\n",
    "print(removeElement(Lst := [0,1,2,2,3,0,4,2],val = 2))"
   ]
  },
  {
   "cell_type": "markdown",
   "metadata": {},
   "source": [
    "#### Q.4) {26} Remove Duplicates from Sorted Array:\n",
    "Given an integer array nums sorted in non-decreasing order, remove the duplicates in-place such that each unique element appear only once. The relative order of the elements shoudl be kept same. <br>\n",
    "Then return and number of unique elements in nums."
   ]
  },
  {
   "cell_type": "code",
   "execution_count": null,
   "metadata": {},
   "outputs": [],
   "source": [
    "def Remove_duplicate(nums:List[int])->int:\n",
    "   count = 0\n",
    "   \n",
    "   for i,num in enumerate(nums):\n",
    "      if i==0 or nums[i-1] != num:\n",
    "         nums[count] = num\n",
    "         count += 1\n",
    "   \n",
    "   return count"
   ]
  },
  {
   "cell_type": "code",
   "execution_count": 28,
   "metadata": {},
   "outputs": [],
   "source": [
    "def RemoveDuplicate(nums:List[int])->int:\n",
    "   curr = 0\n",
    "   last = None\n",
    "   for n in nums:\n",
    "      if n == last:  continue\n",
    "      last = n\n",
    "      nums[curr] = n\n",
    "      curr += 1\n",
    "   return curr,nums[:curr]"
   ]
  },
  {
   "cell_type": "code",
   "execution_count": 29,
   "metadata": {},
   "outputs": [
    {
     "name": "stdout",
     "output_type": "stream",
     "text": [
      "(5, [0, 1, 2, 3, 4])\n"
     ]
    }
   ],
   "source": [
    "Test = [0,0,1,1,1,2,2,3,3,4]\n",
    "print(RemoveDuplicate(Test))"
   ]
  },
  {
   "cell_type": "markdown",
   "metadata": {},
   "source": [
    "#### Q.5) {287} Duplicate number:\n",
    "Given an array of  integers nums containing n + 1 integers where each integer is in the range [1, n] inclusive.\n",
    "\n",
    "There is only one repeated number in nums, return this repeated number."
   ]
  },
  {
   "cell_type": "code",
   "execution_count": null,
   "metadata": {},
   "outputs": [
    {
     "data": {
      "text/plain": [
       "2"
      ]
     },
     "metadata": {},
     "output_type": "display_data"
    }
   ],
   "source": [
    "## Sorting Original Array\n",
    "def findDuplicate(nums: List[int]) -> int:\n",
    "   nums.sort()\n",
    "   for i in range(1,len(nums)):\n",
    "      if nums[i] == nums[i-1]:\n",
    "         return nums[i]\n",
    "\n",
    "findDuplicate([1,3,4,2,2])"
   ]
  },
  {
   "cell_type": "code",
   "execution_count": null,
   "metadata": {},
   "outputs": [
    {
     "data": {
      "text/plain": [
       "3"
      ]
     },
     "metadata": {},
     "output_type": "display_data"
    }
   ],
   "source": [
    "## Mapping\n",
    "def Find_Duplicate(nums: List[int]) -> int:\n",
    "   seen = set()\n",
    "   for num in nums:\n",
    "      if num in seen:\n",
    "         return num\n",
    "      seen.add(num)\n",
    "\n",
    "Find_Duplicate([3,1,3,4,2])"
   ]
  },
  {
   "cell_type": "code",
   "execution_count": null,
   "metadata": {},
   "outputs": [
    {
     "data": {
      "text/plain": [
       "3"
      ]
     },
     "metadata": {},
     "output_type": "display_data"
    }
   ],
   "source": [
    "## Mapping manually\n",
    "def FindDuplicate(nums: List[int]) -> int:\n",
    "   seen = [0]*len(nums)\n",
    "   for num in nums:\n",
    "      if seen[num]:\n",
    "         return num\n",
    "      seen[num] = 1\n",
    "\n",
    "FindDuplicate([3,3,3,3,3])"
   ]
  },
  {
   "cell_type": "code",
   "execution_count": null,
   "metadata": {},
   "outputs": [
    {
     "data": {
      "text/plain": [
       "4"
      ]
     },
     "metadata": {},
     "output_type": "display_data"
    }
   ],
   "source": [
    "## Using Xor operator\n",
    "def Find_duplicate(nums: List[int]) -> int:\n",
    "   res = 0\n",
    "   res = reduce(map(lambda x: x^res,nums))\n",
    "   print(res)\n",
    "\n",
    "Nums = [1,5,3,6,2,8,4,7,4]\n",
    "Find_Duplicate(Nums)"
   ]
  }
 ],
 "metadata": {
  "kernelspec": {
   "display_name": "Python 3",
   "language": "python",
   "name": "python3"
  },
  "language_info": {
   "codemirror_mode": {
    "name": "ipython",
    "version": 3
   },
   "file_extension": ".py",
   "mimetype": "text/x-python",
   "name": "python",
   "nbconvert_exporter": "python",
   "pygments_lexer": "ipython3",
   "version": "3.13.2"
  }
 },
 "nbformat": 4,
 "nbformat_minor": 2
}
